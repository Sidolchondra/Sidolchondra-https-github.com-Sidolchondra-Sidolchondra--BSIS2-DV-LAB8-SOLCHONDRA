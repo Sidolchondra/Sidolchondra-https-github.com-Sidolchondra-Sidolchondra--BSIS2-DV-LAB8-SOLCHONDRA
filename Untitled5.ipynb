{
  "nbformat": 4,
  "nbformat_minor": 0,
  "metadata": {
    "colab": {
      "provenance": [],
      "authorship_tag": "ABX9TyNipD+baBK9+06bX/EKNCAy",
      "include_colab_link": true
    },
    "kernelspec": {
      "name": "python3",
      "display_name": "Python 3"
    },
    "language_info": {
      "name": "python"
    }
  },
  "cells": [
    {
      "cell_type": "markdown",
      "metadata": {
        "id": "view-in-github",
        "colab_type": "text"
      },
      "source": [
        "<a href=\"https://colab.research.google.com/github/Sidolchondra/Sidolchondra-https-github.com-Sidolchondra-Sidolchondra--BSIS2-DV-LAB8-SOLCHONDRA/blob/main/Untitled5.ipynb\" target=\"_parent\"><img src=\"https://colab.research.google.com/assets/colab-badge.svg\" alt=\"Open In Colab\"/></a>"
      ]
    },
    {
      "cell_type": "code",
      "execution_count": null,
      "metadata": {
        "colab": {
          "base_uri": "https://localhost:8080/"
        },
        "id": "qeRWSk7sgrjJ",
        "outputId": "99dd2d98-40cd-45e1-9396-8570c08612e9"
      },
      "outputs": [
        {
          "output_type": "stream",
          "name": "stdout",
          "text": [
            "What is the temperature outside? : 20\n",
            "the temperature is good today\n",
            "can go outside!\n"
          ]
        }
      ],
      "source": [
        "temp = int(input(\"What is the temperature outside? : \"))\n",
        "\n",
        "if temp >= 0 and temp <= 30: \n",
        "  print(\"the temperature is good today\") \n",
        "  print(\"can go outside!\") \n",
        "elif temp < 0 or temp > 30:\n",
        "  print(\"the temperature is bad today!\")\n",
        "  print(\"you must stay inside!\")\n",
        "\n",
        "#evaluates if temperature is less than 0 or greater than 30 \n",
        "#try to enter values less than 0 or greater than 30\n",
        "#it will print the desired output having a bad temperature"
      ]
    },
    {
      "cell_type": "code",
      "source": [],
      "metadata": {
        "id": "1qtp4z-T4wpq"
      },
      "execution_count": null,
      "outputs": []
    },
    {
      "cell_type": "code",
      "source": [
        "myName=\"Sidrick\"\n",
        "for x in myName:\n",
        "  print(x)"
      ],
      "metadata": {
        "id": "5Qz1LF1FhRwx",
        "colab": {
          "base_uri": "https://localhost:8080/"
        },
        "outputId": "42f0b0e6-46ce-437d-f14a-831045dae4f0"
      },
      "execution_count": 1,
      "outputs": [
        {
          "output_type": "stream",
          "name": "stdout",
          "text": [
            "S\n",
            "i\n",
            "d\n",
            "r\n",
            "i\n",
            "c\n",
            "k\n"
          ]
        }
      ]
    },
    {
      "cell_type": "code",
      "source": [
        "Range=(20)\n",
        "for x in range(20):\n",
        "   print(x)\n",
        "else:\n",
        "   print(\"Finally finished!\")"
      ],
      "metadata": {
        "colab": {
          "base_uri": "https://localhost:8080/"
        },
        "id": "4GTk_8_i5R7D",
        "outputId": "6266b5dd-5b46-4844-d936-8969a85b55fa"
      },
      "execution_count": 2,
      "outputs": [
        {
          "output_type": "stream",
          "name": "stdout",
          "text": [
            "0\n",
            "1\n",
            "2\n",
            "3\n",
            "4\n",
            "5\n",
            "6\n",
            "7\n",
            "8\n",
            "9\n",
            "10\n",
            "11\n",
            "12\n",
            "13\n",
            "14\n",
            "15\n",
            "16\n",
            "17\n",
            "18\n",
            "19\n",
            "Finally finished!\n"
          ]
        }
      ]
    },
    {
      "cell_type": "code",
      "source": [
        "thislist=[\"tricia\",\"trish\",\"trixs\"]\n",
        "for x in thislist:\n",
        "  print(x)"
      ],
      "metadata": {
        "colab": {
          "base_uri": "https://localhost:8080/"
        },
        "id": "vV4oC1U75hVW",
        "outputId": "02e2f1b8-2a4e-4642-b096-e9952966b8a6"
      },
      "execution_count": 4,
      "outputs": [
        {
          "output_type": "stream",
          "name": "stdout",
          "text": [
            "tricia\n",
            "trish\n",
            "trixs\n"
          ]
        }
      ]
    },
    {
      "cell_type": "code",
      "source": [
        "dataAnalyticsTools=['Python','Excel','Rapid Miner','R']\n",
        "for i in range(len(dataAnalyticsTools)):\n",
        "  print(dataAnalyticsTools[i])"
      ],
      "metadata": {
        "colab": {
          "base_uri": "https://localhost:8080/"
        },
        "id": "SGIDHTux52hn",
        "outputId": "8cb0d268-614e-4b65-b98a-7b736ba22962"
      },
      "execution_count": 5,
      "outputs": [
        {
          "output_type": "stream",
          "name": "stdout",
          "text": [
            "Python\n",
            "Excel\n",
            "Rapid Miner\n",
            "R\n"
          ]
        }
      ]
    }
  ]
}